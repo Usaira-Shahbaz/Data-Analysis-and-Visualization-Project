{
  "metadata": {
    "kernelspec": {
      "language": "python",
      "display_name": "Python 3",
      "name": "python3"
    },
    "language_info": {
      "name": "python",
      "version": "3.11.11",
      "mimetype": "text/x-python",
      "codemirror_mode": {
        "name": "ipython",
        "version": 3
      },
      "pygments_lexer": "ipython3",
      "nbconvert_exporter": "python",
      "file_extension": ".py"
    },
    "kaggle": {
      "accelerator": "none",
      "dataSources": [
        {
          "sourceId": 2669146,
          "sourceType": "datasetVersion",
          "datasetId": 55151
        },
        {
          "sourceId": 11084080,
          "sourceType": "datasetVersion",
          "datasetId": 6908364
        }
      ],
      "dockerImageVersionId": 31012,
      "isInternetEnabled": false,
      "language": "python",
      "sourceType": "notebook",
      "isGpuEnabled": false
    },
    "colab": {
      "provenance": []
    }
  },
  "nbformat_minor": 0,
  "nbformat": 4,
  "cells": [
    {
      "cell_type": "markdown",
      "source": [
        "### **Loading dataset and Merging**"
      ],
      "metadata": {
        "id": "nM_Ap3GmIodn"
      }
    },
    {
      "cell_type": "code",
      "source": [
        "import pandas as pd\n",
        "\n",
        "working_path = \"/kaggle/input/brazilian-ecommerce/\"\n",
        "\n",
        "orders_df = pd.read_csv(working_path + \"olist_orders_dataset.csv\",\n",
        "                        usecols=[\"order_id\", \"customer_id\", \"order_status\",\n",
        "                                 \"order_purchase_timestamp\", \"order_delivered_customer_date\"],\n",
        "                        on_bad_lines=\"skip\")\n",
        "\n",
        "customers_df = pd.read_csv(working_path + \"olist_customers_dataset.csv\",\n",
        "                           usecols=[\"customer_id\", \"customer_city\"],\n",
        "                           on_bad_lines=\"skip\")\n",
        "\n",
        "order_items_df = pd.read_csv(working_path + \"olist_order_items_dataset.csv\",\n",
        "                             usecols=[\"order_id\", \"product_id\", \"seller_id\", \"price\"],\n",
        "                             on_bad_lines=\"skip\")\n",
        "\n",
        "products_df = pd.read_csv(working_path + \"olist_products_dataset.csv\",\n",
        "                          usecols=[\"product_id\", \"product_category_name\"],\n",
        "                          on_bad_lines=\"skip\")\n",
        "\n",
        "translation_df = pd.read_csv(working_path + \"product_category_name_translation.csv\",\n",
        "                             usecols=[\"product_category_name\", \"product_category_name_english\"],\n",
        "                             on_bad_lines=\"skip\")\n",
        "\n",
        "sellers_df = pd.read_csv(working_path + \"olist_sellers_dataset.csv\",\n",
        "                         usecols=[\"seller_id\", \"seller_city\", \"seller_state\"],\n",
        "                         on_bad_lines=\"skip\")\n",
        "\n",
        "payments_df = pd.read_csv(working_path + \"olist_order_payments_dataset.csv\",\n",
        "                          usecols=[\"order_id\", \"payment_type\", \"payment_value\"],\n",
        "                          on_bad_lines=\"skip\")\n",
        "\n",
        "reviews_df = pd.read_csv(working_path + \"olist_order_reviews_dataset.csv\",\n",
        "                         usecols=[\"order_id\", \"review_score\", \"review_comment_title\",\n",
        "                                  \"review_comment_message\", \"review_creation_date\"],\n",
        "                         on_bad_lines=\"skip\")\n",
        "\n",
        "merged_df = orders_df.merge(customers_df, on=\"customer_id\", how=\"left\")\n",
        "\n",
        "merged_df = merged_df.merge(order_items_df, on=\"order_id\", how=\"left\")\n",
        "\n",
        "merged_df = merged_df.merge(products_df, on=\"product_id\", how=\"left\")\n",
        "\n",
        "merged_df = merged_df.merge(translation_df, on=\"product_category_name\", how=\"left\")\n",
        "\n",
        "merged_df = merged_df.merge(sellers_df, on=\"seller_id\", how=\"left\")\n",
        "\n",
        "merged_df = merged_df.merge(payments_df, on=\"order_id\", how=\"left\")\n",
        "\n",
        "merged_df = merged_df.merge(reviews_df, on=\"order_id\", how=\"left\")\n",
        "\n",
        "merged_df.drop(columns=[\"product_category_name\"], inplace=True)\n",
        "\n",
        "final_csv_path = \"/kaggle/working/final_merged_dataset.csv\"\n",
        "merged_df.to_csv(final_csv_path, index=False)"
      ],
      "metadata": {
        "trusted": true,
        "execution": {
          "iopub.status.busy": "2025-04-11T05:12:52.875638Z",
          "iopub.execute_input": "2025-04-11T05:12:52.876420Z",
          "iopub.status.idle": "2025-04-11T05:12:58.493483Z",
          "shell.execute_reply.started": "2025-04-11T05:12:52.876390Z",
          "shell.execute_reply": "2025-04-11T05:12:58.492483Z"
        },
        "id": "Mt6_hYddIodw"
      },
      "outputs": [],
      "execution_count": null
    },
    {
      "cell_type": "code",
      "source": [
        "df=pd.read_csv(\"/kaggle/working/final_merged_dataset.csv\")"
      ],
      "metadata": {
        "trusted": true,
        "execution": {
          "iopub.status.busy": "2025-04-11T05:12:58.494539Z",
          "iopub.execute_input": "2025-04-11T05:12:58.494790Z",
          "iopub.status.idle": "2025-04-11T05:12:59.545890Z",
          "shell.execute_reply.started": "2025-04-11T05:12:58.494771Z",
          "shell.execute_reply": "2025-04-11T05:12:59.545180Z"
        },
        "id": "QqDR0JoRIod3"
      },
      "outputs": [],
      "execution_count": null
    },
    {
      "cell_type": "code",
      "source": [
        "import pandas as pd\n",
        "\n",
        "file_path = \"/kaggle/working/final_merged_dataset.csv\"\n",
        "df = pd.read_csv(file_path)\n",
        "\n",
        "columns_to_remove = [0, 1, 6,7]\n",
        "\n",
        "df.drop(df.columns[columns_to_remove], axis=1, inplace=True)\n",
        "\n",
        "df.to_csv(\"/kaggle/working/cleaned_dataset.csv\", index=False)"
      ],
      "metadata": {
        "trusted": true,
        "execution": {
          "iopub.status.busy": "2025-04-11T05:12:59.547714Z",
          "iopub.execute_input": "2025-04-11T05:12:59.547991Z",
          "iopub.status.idle": "2025-04-11T05:13:01.733834Z",
          "shell.execute_reply.started": "2025-04-11T05:12:59.547970Z",
          "shell.execute_reply": "2025-04-11T05:13:01.732799Z"
        },
        "id": "SX9PM9lLIod8"
      },
      "outputs": [],
      "execution_count": null
    },
    {
      "cell_type": "code",
      "source": [
        "df=pd.read_csv(\"/kaggle/working/cleaned_dataset.csv\")"
      ],
      "metadata": {
        "trusted": true,
        "execution": {
          "iopub.status.busy": "2025-04-11T05:13:01.735058Z",
          "iopub.execute_input": "2025-04-11T05:13:01.735420Z",
          "iopub.status.idle": "2025-04-11T05:13:02.271228Z",
          "shell.execute_reply.started": "2025-04-11T05:13:01.735397Z",
          "shell.execute_reply": "2025-04-11T05:13:02.270334Z"
        },
        "id": "XTonsVIeIod-"
      },
      "outputs": [],
      "execution_count": null
    },
    {
      "cell_type": "code",
      "source": [
        "column_order=[\"customer_city\",\"seller_city\",\"seller_state\",\"product_category_name_english\",\"price\",\"payment_value\",\"payment_type\",\"order_status\",\"order_purchase_timestamp\",\"order_delivered_customer_date\",\"review_score\",\"review_comment_title\",\"review_comment_message\",\"review_creation_date\"]"
      ],
      "metadata": {
        "trusted": true,
        "execution": {
          "iopub.status.busy": "2025-04-11T05:13:02.272021Z",
          "iopub.execute_input": "2025-04-11T05:13:02.272335Z",
          "iopub.status.idle": "2025-04-11T05:13:02.277092Z",
          "shell.execute_reply.started": "2025-04-11T05:13:02.272314Z",
          "shell.execute_reply": "2025-04-11T05:13:02.276173Z"
        },
        "id": "yD_lOYp7Iod_"
      },
      "outputs": [],
      "execution_count": null
    },
    {
      "cell_type": "code",
      "source": [
        "df = df[column_order]"
      ],
      "metadata": {
        "trusted": true,
        "execution": {
          "iopub.status.busy": "2025-04-11T05:13:02.278594Z",
          "iopub.execute_input": "2025-04-11T05:13:02.278888Z",
          "iopub.status.idle": "2025-04-11T05:13:02.318249Z",
          "shell.execute_reply.started": "2025-04-11T05:13:02.278859Z",
          "shell.execute_reply": "2025-04-11T05:13:02.317304Z"
        },
        "id": "xUASDHHlIoeA"
      },
      "outputs": [],
      "execution_count": null
    },
    {
      "cell_type": "code",
      "source": [
        "df"
      ],
      "metadata": {
        "trusted": true,
        "execution": {
          "iopub.status.busy": "2025-04-11T05:13:02.319275Z",
          "iopub.execute_input": "2025-04-11T05:13:02.319592Z",
          "iopub.status.idle": "2025-04-11T05:13:02.353086Z",
          "shell.execute_reply.started": "2025-04-11T05:13:02.319564Z",
          "shell.execute_reply": "2025-04-11T05:13:02.352159Z"
        },
        "id": "ddBeIqZQIoeB",
        "outputId": "c531da7a-0b5e-4571-f1e7-54db32777770"
      },
      "outputs": [
        {
          "execution_count": 7,
          "output_type": "execute_result",
          "data": {
            "text/plain": "[Summary: DataFrame with 119143 rows and 14 columns: customer_city, seller_city, seller_state, product_category_name_english, price, payment_value, payment_type, order_status, order_purchase_timestamp, order_delivered_customer_date, review_score, review_comment_title, review_comment_message, review_creation_date]"
          }
        }
      ],
      "execution_count": null
    },
    {
      "cell_type": "code",
      "source": [
        "df.to_csv(\"/kaggle/working/14column.csv\")"
      ],
      "metadata": {
        "trusted": true,
        "execution": {
          "iopub.status.busy": "2025-04-11T05:13:02.354012Z",
          "iopub.execute_input": "2025-04-11T05:13:02.354336Z",
          "iopub.status.idle": "2025-04-11T05:13:03.606206Z",
          "shell.execute_reply.started": "2025-04-11T05:13:02.354312Z",
          "shell.execute_reply": "2025-04-11T05:13:03.605302Z"
        },
        "id": "9MZ4y0bLIoeE"
      },
      "outputs": [],
      "execution_count": null
    },
    {
      "cell_type": "code",
      "source": [
        "df.describe()"
      ],
      "metadata": {
        "trusted": true,
        "execution": {
          "iopub.status.busy": "2025-04-11T05:13:03.608827Z",
          "iopub.execute_input": "2025-04-11T05:13:03.609102Z",
          "iopub.status.idle": "2025-04-11T05:13:03.626822Z",
          "shell.execute_reply.started": "2025-04-11T05:13:03.609081Z",
          "shell.execute_reply": "2025-04-11T05:13:03.625769Z"
        },
        "id": "xxH3mT0-IoeF"
      },
      "outputs": [],
      "execution_count": 1
    },
    {
      "cell_type": "code",
      "source": [
        "import pandas as pd\n",
        "from deep_translator import GoogleTranslator\n",
        "file_path = \"/kaggle/working/14column.csv\"\n",
        "df = pd.read_csv(file_path)\n",
        "translator = GoogleTranslator(source='pt', target='en')\n",
        "def translate_text(text):\n",
        "    if pd.isna(text):\n",
        "        return text\n",
        "    try:\n",
        "        return translator.translate(text)\n",
        "    except Exception as e:\n",
        "        print(f\"Error translating: {text} -> {e}\")\n",
        "        return text\n",
        "df['review_comment_message'][1000:10000] = df['review_comment_message'][1000:10000].apply(translate_text)\n",
        "df.to_csv(\"/kaggle/input/dataset/FINAL.csv\", index=False)"
      ],
      "metadata": {
        "trusted": true,
        "id": "ReqYjTuzIoeG"
      },
      "outputs": [],
      "execution_count": null
    }
  ]
}
