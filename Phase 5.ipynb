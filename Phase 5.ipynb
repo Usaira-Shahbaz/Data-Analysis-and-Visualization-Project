{
  "cells": [
    {
      "cell_type": "markdown",
      "metadata": {},
      "source": [
        "# Time Series Analysis and Delivery Time Impact on Review Scores\n",
        "\n",
        "This notebook performs a time series analysis on e-commerce order data to identify trends, seasonality, and forecast future sales. Additionally, it analyzes the impact of delivery time on customer review scores.\n",
        "\n",
        "## Objectives\n",
        "1. Analyze sales volume (order count) and revenue over time.\n",
        "2. Identify trends and seasonal patterns using seasonal decomposition.\n",
        "3. Forecast future order counts using ARIMA.\n",
        "4. Evaluate the relationship between delivery time and review scores."
      ]
    },
    {
      "cell_type": "markdown",
      "metadata": {},
      "source": [
        "## 1. Data Preparation\n",
        "\n",
        "We load the dataset, convert time columns to `datetime`, filter for delivered orders, and calculate delivery time in days."
      ]
    },
    {
      "cell_type": "code",
      "execution_count": null,
      "metadata": {},
      "outputs": [],
      "source": [
        "# Import libraries\n",
        "import pandas as pd\n",
        "import matplotlib.pyplot as plt\n",
        "import seaborn as sns\n",
        "from statsmodels.tsa.seasonal import seasonal_decompose\n",
        "from statsmodels.tsa.arima.model import ARIMA\n",
        "import numpy as np\n",
        "from scipy.stats import pearsonr\n",
        "\n",
        "# Load the dataset\n",
        "df = pd.read_csv('FINAL.csv')\n",
        "\n",
        "# Convert time columns to datetime\n",
        "df['order_purchase_timestamp'] = pd.to_datetime(df['order_purchase_timestamp'], format='%m/%d/%Y %H:%M')\n",
        "df['order_delivered_customer_date'] = pd.to_datetime(df['order_delivered_customer_date'], format='%m/%d/%Y %H:%M', errors='coerce')\n",
        "df['review_creation_date'] = pd.to_datetime(df['review_creation_date'], format='%m/%d/%Y %H:%M')\n",
        "\n",
        "# Filter for delivered orders\n",
        "df = df[df['order_status'] == 'delivered']\n",
        "\n",
        "# Calculate delivery time in days\n",
        "df['delivery_time'] = (df['order_delivered_customer_date'] - df['order_purchase_timestamp']).dt.total_seconds() / (24 * 3600)\n",
        "\n",
        "# Handle missing delivery times\n",
        "df = df.dropna(subset=['delivery_time', 'review_score'])\n",
        "\n",
        "# Set index for time series analysis\n",
        "df_ts = df.set_index('order_purchase_timestamp')\n",
        "\n",
        "# Aggregate data by month for time series analysis\n",
        "monthly_sales = df_ts.resample('M').agg({\n",
        "    'Unnamed: 0': 'count',  # Order count\n",
        "    'payment_value': 'sum'   # Total revenue\n",
        "}).rename(columns={'Unnamed: 0': 'order_count'})\n",
        "\n",
        "# Display first few rows of aggregated data\n",
        "monthly_sales.head()"
      ]
    },
    {
      "cell_type": "markdown",
      "metadata": {},
      "source": [
        "## 2. Time Series Analysis: Trends and Seasonality\n",
        "\n",
        "We perform seasonal decomposition to identify trends and seasonal patterns in the order count."
      ]
    },
    {
      "cell_type": "code",
      "execution_count": null,
      "metadata": {},
      "outputs": [],
      "source": [
        "# Seasonal decomposition for order count\n",
        "decomposition = seasonal_decompose(monthly_sales['order_count'], model='additive', period=12)\n",
        "\n",
        "# Plot decomposition\n",
        "plt.figure(figsize=(12, 8))\n",
        "decomposition.plot()\n",
        "plt.suptitle('Seasonal Decomposition of Order Count', y=1.02)\n",
        "plt.show()"
      ]
    },
    {
      "cell_type": "markdown",
      "metadata": {},
      "source": [
        "## 3. Forecasting\n",
        "\n",
        "We use an ARIMA model to forecast order counts for the next 6 months."
      ]
    },
    {
      "cell_type": "code",
      "execution_count": null,
      "metadata": {},
      "outputs": [],
      "source": [
        "# Fit ARIMA model\n",
        "model = ARIMA(monthly_sales['order_count'], order=(1, 1, 1), seasonal_order=(1, 1, 1, 12))\n",
        "arima_result = model.fit()\n",
        "\n",
        "# Forecast for the next 6 months\n",
        "forecast = arima_result.forecast(steps=6)\n",
        "forecast_index = pd.date_range(start=monthly_sales.index[-1] + pd.offsets.MonthBegin(1), periods=6, freq='M')\n",
        "\n",
        "# Plot forecast\n",
        "plt.figure(figsize=(12, 6))\n",
        "plt.plot(monthly_sales['order_count'], label='Historical Order Count')\n",
        "plt.plot(forecast_index, forecast, label='Forecast', color='red')\n",
        "plt.title('Order Count Forecast (6 Months)')\n",
        "plt.xlabel('Date')\n",
        "plt.ylabel('Order Count')\n",
        "plt.legend()\n",
        "plt.show()\n",
        "\n",
        "# Print forecast values\n",
        "print('Forecasted Order Count for Next 6 Months:')\n",
        "print(pd.Series(forecast, index=forecast_index))"
      ]
    },
    {
      "cell_type": "markdown",
      "metadata": {},
      "source": [
        "## 4. Delivery Time Impact on Review Scores\n",
        "\n",
        "We analyze how delivery time affects review scores using correlation analysis, scatter plots, box plots, and summary statistics."
      ]
    },
    {
      "cell_type": "code",
      "execution_count": null,
      "metadata": {},
      "outputs": [],
      "source": [
        "# Correlation analysis\n",
        "corr, p_value = pearsonr(df['delivery_time'], df['review_score'])\n",
        "print(f'Pearson Correlation between Delivery Time and Review Score: {corr:.3f} (p-value: {p_value:.3f})')\n",
        "\n",
        "# Scatter plot\n",
        "plt.figure(figsize=(10, 6))\n",
        "sns.scatterplot(x='delivery_time', y='review_score', data=df, alpha=0.5)\n",
        "plt.title('Delivery Time vs. Review Score')\n",
        "plt.xlabel('Delivery Time (Days)')\n",
        "plt.ylabel('Review Score')\n",
        "plt.show()\n",
        "\n",
        "# Box plot by review score\n",
        "plt.figure(figsize=(10, 6))\n",
        "sns.boxplot(x='review_score', y='delivery_time', data=df)\n",
        "plt.title('Delivery Time Distribution by Review Score')\n",
        "plt.xlabel('Review Score')\n",
        "plt.ylabel('Delivery Time (Days)')\n",
        "plt.show()\n",
        "\n",
        "# Summary statistics: Average delivery time by review score\n",
        "avg_delivery_by_score = df.groupby('review_score')['delivery_time'].mean()\n",
        "print('\\nAverage Delivery Time by Review Score:')\n",
        "print(avg_delivery_by_score)"
      ]
    },
    {
      "cell_type": "markdown",
      "metadata": {},
      "source": [
        "## 5. Conclusions\n",
        "\n",
        "### Time Series Analysis\n",
        "- **Trends**: The seasonal decomposition shows the long-term trend in order counts, which may indicate business growth or decline.\n",
        "- **Seasonality**: Peaks in certain months (e.g., November/December) suggest holiday-driven sales.\n",
        "- **Forecast**: The ARIMA model provides a 6-month forecast for order counts, useful for inventory and marketing planning.\n",
        "\n",
        "### Delivery Time Impact\n",
        "- **Correlation**: A negative correlation between delivery time and review score (if observed) indicates that longer delivery times are associated with lower customer satisfaction.\n",
        "- **Visualization**: The scatter and box plots highlight how delivery time varies with review scores.\n",
        "- **Summary**: Average delivery times are typically higher for lower review scores, suggesting that faster delivery improves customer satisfaction.\n",
        "\n",
        "### Recommendations\n",
        "- **Business Planning**: Use forecast results to prepare for peak seasons and optimize inventory.\n",
        "- **Delivery Optimization**: Reduce delivery times to improve review scores and customer satisfaction.\n",
        "- **Further Analysis**: Explore category-specific trends or regional differences in delivery performance."
      ]
    }
  ],
  "metadata": {
    "kernelspec": {
      "display_name": "Python 3",
      "language": "python",
      "name": "python3"
    },
    "language_info": {
      "codemirror_mode": {
        "name": "ipython",
        "version": 3
      },
      "file_extension": ".py",
      "mimetype": "text/x-python",
      "name": "python",
      "nbconvert_exporter": "python",
      "pygments_lexer": "ipython3",
      "version": "3.8.10"
    }
  },
  "nbformat": 4,
  "nbformat_minor": 4
}