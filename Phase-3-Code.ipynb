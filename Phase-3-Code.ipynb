{
  "nbformat": 4,
  "nbformat_minor": 0,
  "metadata": {
    "colab": {
      "provenance": []
    },
    "kernelspec": {
      "name": "python3",
      "display_name": "Python 3"
    },
    "language_info": {
      "name": "python"
    }
  },
  "cells": [
    {
      "cell_type": "markdown",
      "source": [
        "<h1>Usaira Shahbaz</h1>\n",
        "<h1>Phase-3 Preprocessing</h1>\n"
      ],
      "metadata": {
        "id": "-W8IGaSb8K--"
      }
    },
    {
      "cell_type": "markdown",
      "source": [
        "Removing 'review_comment_title' column"
      ],
      "metadata": {
        "id": "5bP5QaN38lHN"
      }
    },
    {
      "cell_type": "code",
      "execution_count": 17,
      "metadata": {
        "id": "sqaqo8bzdP7M"
      },
      "outputs": [],
      "source": [
        "import pandas as pd\n",
        "\n",
        "df = pd.read_csv(\"/content/FINAL.csv\")\n",
        "\n",
        "df.drop(columns=['review_comment_title'], inplace=True)\n"
      ]
    },
    {
      "cell_type": "markdown",
      "source": [
        "Checking and displaying missing values per column and total missing values"
      ],
      "metadata": {
        "id": "K28GDgyB9720"
      }
    },
    {
      "cell_type": "code",
      "source": [
        "print(\"\\n Missing values per column:\\n\")\n",
        "missing_values = df.isnull().sum()\n",
        "print(missing_values)\n",
        "\n",
        "print(\"\\n Total missing values in the dataset:\", missing_values.sum())"
      ],
      "metadata": {
        "colab": {
          "base_uri": "https://localhost:8080/"
        },
        "id": "cp0s3GuOe1Bb",
        "outputId": "7f560534-add3-490c-d65c-df4295b0169c"
      },
      "execution_count": 18,
      "outputs": [
        {
          "output_type": "stream",
          "name": "stdout",
          "text": [
            "\n",
            " Missing values per column:\n",
            "\n",
            "Unnamed: 0                           0\n",
            "customer_city                        0\n",
            "seller_city                        833\n",
            "seller_state                       833\n",
            "product_category_name_english     2567\n",
            "price                              833\n",
            "payment_value                        3\n",
            "payment_type                         3\n",
            "order_status                         0\n",
            "order_purchase_timestamp             0\n",
            "order_delivered_customer_date     3421\n",
            "review_score                       997\n",
            "review_comment_message           69062\n",
            "review_creation_date               997\n",
            "dtype: int64\n",
            "\n",
            " Total missing values in the dataset: 79549\n"
          ]
        }
      ]
    },
    {
      "cell_type": "markdown",
      "source": [
        "Missing Values Handling"
      ],
      "metadata": {
        "id": "BduccxWeH8Nc"
      }
    },
    {
      "cell_type": "code",
      "source": [
        "df.dropna(subset=[\n",
        "    'seller_city',\n",
        "    'seller_state',\n",
        "    'product_category_name_english',\n",
        "    'payment_value',\n",
        "    'payment_type',\n",
        "    'order_delivered_customer_date',\n",
        "    'review_comment_message',\n",
        "    'review_creation_date'\n",
        "], inplace=True)\n",
        "\n",
        "df['price'].fillna(df['price'].mean())\n",
        "df['price'] = df['price'].fillna(round(df['price'].mean(), 2))\n",
        "\n",
        "\n",
        "print(\"\\n Missing values per column after cleanup:\\n\")\n",
        "remaining_missing = df.isnull().sum()\n",
        "\n",
        "\n",
        "print(\"\\n Total remaining missing values in the dataset:\", remaining_missing.sum())"
      ],
      "metadata": {
        "colab": {
          "base_uri": "https://localhost:8080/"
        },
        "id": "MSrRD3N4fRMs",
        "outputId": "6e495b89-64fa-4e5d-909a-29862015f43a"
      },
      "execution_count": 19,
      "outputs": [
        {
          "output_type": "stream",
          "name": "stdout",
          "text": [
            "\n",
            " Missing values per column after cleanup:\n",
            "\n",
            "\n",
            " Total remaining missing values in the dataset: 0\n"
          ]
        }
      ]
    },
    {
      "cell_type": "markdown",
      "source": [
        "Duplicate Values Checking"
      ],
      "metadata": {
        "id": "aBqEAYTcILCs"
      }
    },
    {
      "cell_type": "code",
      "source": [
        "duplicate_rows = df[df.duplicated()]\n",
        "print(f\" Number of duplicate rows found: {len(duplicate_rows)}\")\n",
        "\n",
        "\n",
        "print(f\"\\n Final dataset shape: {df.shape}\")\n"
      ],
      "metadata": {
        "colab": {
          "base_uri": "https://localhost:8080/"
        },
        "id": "w9gScsaNhdRA",
        "outputId": "dd7f793b-31ad-4a7a-d1d4-17c0d4d68240"
      },
      "execution_count": 20,
      "outputs": [
        {
          "output_type": "stream",
          "name": "stdout",
          "text": [
            " Number of duplicate rows found: 0\n",
            "\n",
            " Final dataset shape: (47211, 14)\n"
          ]
        }
      ]
    },
    {
      "cell_type": "markdown",
      "source": [
        "Detection of outliers using IQR"
      ],
      "metadata": {
        "id": "T9uIkXc3KPGw"
      }
    },
    {
      "cell_type": "code",
      "source": [
        "def detect_outliers(df):\n",
        "    for col in df.select_dtypes(include=['float64', 'int64']).columns:\n",
        "        Q1, Q3 = df[col].quantile([0.25, 0.75])\n",
        "        IQR = Q3 - Q1\n",
        "        lower, upper = Q1 - 1.5 * IQR, Q3 + 1.5 * IQR\n",
        "        outliers = df[(df[col] < lower) | (df[col] > upper)]\n",
        "        if not outliers.empty:\n",
        "            print(f\"{col}: {len(outliers)} outliers (Bounds: {lower:.2f}, {upper:.2f})\")\n",
        "\n",
        "detect_outliers(df)"
      ],
      "metadata": {
        "colab": {
          "base_uri": "https://localhost:8080/"
        },
        "id": "wY4oDDxUjiqg",
        "outputId": "c8c4e4e6-dc05-4556-e15c-83e521b7132e"
      },
      "execution_count": 21,
      "outputs": [
        {
          "output_type": "stream",
          "name": "stdout",
          "text": [
            "price: 3553 outliers (Bounds: -105.38, 282.26)\n",
            "payment_value: 3937 outliers (Bounds: -142.60, 410.98)\n"
          ]
        }
      ]
    },
    {
      "cell_type": "markdown",
      "source": [
        "Filling outliers with mean"
      ],
      "metadata": {
        "id": "j8NZ9DdBKTge"
      }
    },
    {
      "cell_type": "code",
      "source": [
        "for col in df.select_dtypes(include=['float64', 'int64']).columns:\n",
        "    Q1, Q3 = df[col].quantile([0.25, 0.75])\n",
        "    IQR = Q3 - Q1\n",
        "    lower, upper = Q1 - 1.5 * IQR, Q3 + 1.5 * IQR\n",
        "    mean_val = round(df[col].mean(), 2)\n",
        "    df.loc[(df[col] < lower) | (df[col] > upper), col] = mean_val.astype(df[col].dtype)\n",
        "\n",
        "\n",
        "print(\"Outliers filled with mean\")\n"
      ],
      "metadata": {
        "colab": {
          "base_uri": "https://localhost:8080/"
        },
        "id": "ZvhLWXpDiGWE",
        "outputId": "f7c43c37-42e0-48e7-98bb-e87eac8a2e7a"
      },
      "execution_count": 22,
      "outputs": [
        {
          "output_type": "stream",
          "name": "stdout",
          "text": [
            "Outliers filled with mean\n"
          ]
        }
      ]
    },
    {
      "cell_type": "code",
      "source": [
        "df.to_csv('cleaned-data.csv', index=False)"
      ],
      "metadata": {
        "id": "vRdOy4ptKpoe"
      },
      "execution_count": 23,
      "outputs": []
    }
  ]
}